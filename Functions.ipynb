{
  "nbformat": 4,
  "nbformat_minor": 0,
  "metadata": {
    "colab": {
      "provenance": []
    },
    "kernelspec": {
      "name": "python3",
      "display_name": "Python 3"
    },
    "language_info": {
      "name": "python"
    }
  },
  "cells": [
    {
      "cell_type": "markdown",
      "source": [
        "Functions"
      ],
      "metadata": {
        "id": "-kAx1SiYGc3n"
      }
    },
    {
      "cell_type": "markdown",
      "source": [
        "Q1.  What is the difference between a function and a method in Python?\n",
        "   \n",
        "   - In Python, both functions and methods are blocks of reusable code designed to perform specific tasks, but their key distinction lies in their association with classes and objects.\n",
        "   Functions are independent: and can be called without an object.\n",
        "   Methods are dependent: on a class and are called on an instance of that class, allowing them to interact with the object's data and state.\n",
        "   Example of function\n",
        "       def greet():\n",
        "          print(\"welcome to the office\")\n",
        "          greet()\n",
        "   Example of method\n",
        "       class Dog:\n",
        "        def __init__(self, name):\n",
        "            self.name = name\n",
        "\n",
        "        def bark(self):\n",
        "            return f\"{self.name} says Woof!\"\n",
        "               my_dog = Dog(\"Buddy\")\n",
        "               sound = my_dog.bark()\n",
        "                  print(sound)\n",
        "\n",
        "Q2. Explain the concept of function arguments and parameters in Python.\n",
        "\n",
        "  - Parameters: These are the variables defined within the parentheses of a function's definition. They act as placeholders for the values that the function expects to receive when it is called. Parameters define the type and number of inputs a function can accept.\n",
        "EXAMPLE OF PARAMETERS\n",
        "def greet(name): # 'name' is a parameter\n",
        "        print(f\"Hello, {name}!\")\n",
        "Arguments: These are the actual values that are passed to a function when it is called. These values are assigned to the corresponding parameters within the function's scope, allowing the function to operate on specific data.\n",
        "EXAMPLE OF ARGUMENT\n",
        "greet(\"Alice\") # \"Alice\" is an argument\n",
        "\n",
        "Q3. What are the different ways to define and call a function in Python?\n",
        "\n",
        "   - Using the def keyword: This is the standard way to define a function in Python.\n",
        "  \n",
        "   EXAMPLE\n",
        "       \n",
        "       def function_name(parameter1, parameter2):\n",
        "       return result  # Optional: return a value\n",
        "\n",
        "Calling a Function:\n",
        "Direct Function Call: The most common way to execute a function.\n",
        "Python\n",
        "\n",
        "    function_name(argument1, argument2)\n",
        "function_name: The name of the function to be called.\n",
        "argument1, argument2: Values passed to the function's parameters, enclosed in parentheses.\n",
        "Assigning Return Value: If a function returns a value, it can be assigned to a variable.\n",
        "Python\n",
        "\n",
        "    returned_value = function_name(argument1)\n",
        "\n",
        "Q4. What is the purpose of the `return` statement in a Python function?\n",
        "\n",
        " - The primary purpose of the return statement in a Python function is to send a value or set of values back to the point in the code where the function was called. This allows the result of the function's computation to be used for further processing, assignment to variables, or as part of other expressions.\n",
        "\n",
        " EXAMPLE\n",
        "\n",
        " def add_numbers(a, b):\n",
        "        result = a + b\n",
        "        return result\n",
        "   add_numbers(5,3)\n",
        "\n",
        "Q5. What are iterators in Python and how do they differ from iterables?   \n",
        "\n",
        " - An iterator is an object that represents a stream of data and allows you to access its elements sequentially. It keeps track of the current position during iteration. An iterator must implement two methods:\n",
        "__iter__(): This method returns the iterator object itself.\n",
        "__next__(): This method returns the next item from the sequence. If there are no more items, it raises a StopIteration exception.\n",
        "Differences between Iterables and Iterators:\n",
        "Purpose:\n",
        "An iterable is a container of items that can be iterated over, while an iterator is an object that facilitates the actual iteration process by providing one item at a time.\n",
        "Creation:\n",
        "Iterables are typically created directly (e.g., my_list = [1, 2, 3]). An iterator is usually obtained from an iterable by calling the built-in iter() function (e.g., my_iterator = iter(my_list)).\n",
        "\n",
        "Q6.  Explain the concept of generators in Python and how they are defined.\n",
        "\n",
        " - Generators in Python are a special type of iterable that allow for the creation of iterators in a memory-efficient and concise manner. They produce a sequence of values lazily, one at a time, rather than storing all values in memory simultaneously. This makes them ideal for working with large datasets or infinite sequences where loading the entire dataset into memory would be impractical or impossible.\n",
        " Generators are defined in Python using functions that contain the yield keyword instead of return. generator functions.\n",
        "A function becomes a generator function when it includes at least one yield statement. When a generator function is called, it does not execute its body immediately. Instead, it returns a generator object. This object is an iterator.\n",
        "    def simple_generator():\n",
        "        yield 1\n",
        "        yield 2\n",
        "        yield 3\n",
        "Q7.  What are the advantages of using generators over regular functions?\n",
        "\n",
        "  - Generators offer several advantages over regular functions, particularly when dealing with sequences of data:\n",
        "Memory Efficiency (Lazy Evaluation):\n",
        "Generators produce values one at a time, on demand, rather than generating and storing all values in memory upfront. This is crucial when working with large datasets or infinite sequences, as it prevents excessive memory consumption. Regular functions, when returning a list or similar collection, hold all elements in memory simultaneously.\n",
        "Handling Infinite Sequences:\n",
        "Generators can represent and process infinite sequences of data because they don't need to store the entire sequence. They simply yield the next value when requested, allowing for computations on conceptually endless streams.\n",
        "Improved Performance:\n",
        "By processing data incrementally and avoiding the creation of large intermediate data structures in memory, generators can lead to performance improvements, especially in scenarios where not all elements of a sequence are required at once.\n",
        "\n",
        "Q8. What is a lambda function in Python and when is it typically used?\n",
        "\n",
        " - Lambda function is an anonymous function or short hand function in which there is no need of return statement and def keyword.  \n",
        "\n",
        " Syntax:\n",
        "lambda arguments: expression\n",
        "Lambda functions are typically used for:\n",
        "Short, one-time functions:\n",
        "When a simple function is needed for a specific, isolated task and defining a full def function would be overly verbose.\n",
        "Key functions for sorting:\n",
        "Providing a concise way to define custom sorting logic for lists of objects or tuples.\n",
        "\n",
        "EAXMPLE\n",
        "sq_lambda = lambda x: x**2\n",
        "sq_lambda(2)\n",
        "\n",
        "\n",
        "Q9. Explain the purpose and usage of the `map()` function in Python.\n",
        "\n",
        "  - The primary purpose of map() is to:\n",
        "Transform data:\n",
        "Apply a specific operation or transformation to every element in an iterable.\n",
        "Simplify code:\n",
        "Reduce the need for explicit for loops when performing element-wise operations, leading to more compact and often more readable code.\n",
        "Improve performance (in some cases):\n",
        "For large iterables, map() can be more memory-efficient than creating a new list using a for loop and appending elements, as it returns an iterator that generates values on demand.\n",
        "\n",
        "Usage:\n",
        "The syntax for map() is:\n",
        "Python\n",
        "\n",
        "map(function, iterable, ...)\n",
        "\n",
        "EXAMPLE\n",
        "l = [1,2,3,4,5]\n",
        "list(map(sq,l))\n",
        "\n",
        "Q10.  What is the difference between `map()`, `reduce()`, and `filter()` functions in Python?\n",
        "\n",
        "  - map(function, iterable): The map() function applies a given function to every item of an iterable (e.g., list, tuple) and returns a map object (an iterator). The result is a new iterable with the same number of elements as the original, where each element has been transformed by the applied function.\n",
        "example\n",
        "numbers = [1, 2, 3, 4]\n",
        "squared_numbers = list(map(lambda x: x * x, numbers))\n",
        "squared_numbers will be [1, 4, 9, 16]\n",
        "\n",
        "filter(function, iterable): The filter() function constructs an iterator from elements of an iterable for which a given function returns True. The function typically acts as a predicate, returning a boolean value. The result is a new iterable containing only the elements that satisfy the condition. The length of the filtered iterable can be less than or equal to the original.\n",
        "example\n",
        "numbers = [1, 2, 3, 4, 5, 6]\n",
        "even_numbers = list(filter(lambda x: x % 2 == 0, numbers))\n",
        "even_numbers will be [2, 4, 6]\n",
        "\n",
        "reduce(function, iterable[, initializer]): The reduce() function, found in the functools module, applies a function cumulatively to the items of an iterable, from left to right, so as to reduce the iterable to a single output value. The function must take two arguments. An optional initializer can be provided as the initial value for the accumulation.\n",
        "example\n",
        "from functools import reduce\n",
        "numbers = [1, 2, 3, 4]\n",
        "sum_of_numbers = reduce(lambda x, y: x + y, numbers)\n",
        " sum_of_numbers will be 10\n"
      ],
      "metadata": {
        "id": "rpj8N42CGgGm"
      }
    },
    {
      "cell_type": "markdown",
      "source": [
        "PRACTICAL QUESTIONS"
      ],
      "metadata": {
        "id": "c91KNib0Vl3L"
      }
    },
    {
      "cell_type": "code",
      "source": [
        "# Q1.  Write a Python function that takes a list of numbers as input and returns the sum of all even numbers in\n",
        "# the list.\n",
        "n = [1,2,3,4,5,6,7,8,9]\n",
        "\n",
        "def sum_even_number(num):\n",
        "  sum = 0\n",
        "  for i in num:\n",
        "    if i % 2 == 0:\n",
        "      sum += i\n",
        "  return sum\n",
        "\n",
        "print(sum_even_number(n))"
      ],
      "metadata": {
        "colab": {
          "base_uri": "https://localhost:8080/"
        },
        "id": "GUtwI_cEVlGi",
        "outputId": "967417f0-e5f2-41e4-9798-51a91167c518"
      },
      "execution_count": 43,
      "outputs": [
        {
          "output_type": "stream",
          "name": "stdout",
          "text": [
            "20\n"
          ]
        }
      ]
    },
    {
      "cell_type": "code",
      "source": [
        "# Q2.  Create a Python function that accepts a string and returns the reverse of that string.\n",
        "str = (\"science\")\n",
        "def reverse_string(s):\n",
        "  return s[::-1]\n",
        "print(str)"
      ],
      "metadata": {
        "colab": {
          "base_uri": "https://localhost:8080/"
        },
        "id": "hjgV6Kv2ZHeA",
        "outputId": "82bad78a-0776-4a9a-8449-5ee2650e7949"
      },
      "execution_count": 40,
      "outputs": [
        {
          "output_type": "stream",
          "name": "stdout",
          "text": [
            "science\n"
          ]
        }
      ]
    },
    {
      "cell_type": "code",
      "execution_count": 36,
      "metadata": {
        "colab": {
          "base_uri": "https://localhost:8080/"
        },
        "id": "rEChDILqFxoU",
        "outputId": "aa92d417-221b-4613-b752-aaaf2c1048c7"
      },
      "outputs": [
        {
          "output_type": "stream",
          "name": "stdout",
          "text": [
            "[1, 4, 9, 16, 25]\n"
          ]
        }
      ],
      "source": [
        "# Q3.  Implement a Python function that takes a list of integers and returns a new list containing the squares of\n",
        "# each number.\n",
        "a = [1,2,3,4,5]\n",
        "def square(n):\n",
        "  sq = []\n",
        "  for i in a:\n",
        "    sq.append(i**2)\n",
        "  return sq\n",
        "print(square(a))"
      ]
    },
    {
      "cell_type": "code",
      "source": [
        "# Q4. Write a Python function that checks if a given number is prime or not from 1 to 200.\n",
        "def is_prime(n):\n",
        "    if n < 2:\n",
        "        return False  # Only check numbers from 1 to 200\n",
        "    for i in range(2, int(n ** 0.5) + 1):\n",
        "        if n % i == 0:\n",
        "            return False\n",
        "    return True"
      ],
      "metadata": {
        "id": "KxS2Hn_xVh32"
      },
      "execution_count": 46,
      "outputs": []
    },
    {
      "cell_type": "code",
      "source": [
        "# Q5.  Create an iterator class in Python that generates the Fibonacci sequence up to a specified number of\n",
        "# terms.\n",
        "def fibonacci_generator(n):\n",
        "    a, b = 0, 1\n",
        "    for _ in range(n):\n",
        "        yield a\n",
        "        a, b = b, a + b\n",
        "\n",
        "f = fibonacci_generator(10)\n",
        "for num in f:\n",
        "    print(num)"
      ],
      "metadata": {
        "colab": {
          "base_uri": "https://localhost:8080/"
        },
        "id": "BHDKDBbmgKFa",
        "outputId": "e573f163-0668-411b-a17c-a38f2d184a44"
      },
      "execution_count": 59,
      "outputs": [
        {
          "output_type": "stream",
          "name": "stdout",
          "text": [
            "0\n",
            "1\n",
            "1\n",
            "2\n",
            "3\n",
            "5\n",
            "8\n",
            "13\n",
            "21\n",
            "34\n"
          ]
        }
      ]
    },
    {
      "cell_type": "code",
      "source": [
        "# Q6. Write a generator function in Python that yields the powers of 2 up to a given exponent.\n",
        "def power_of_two(n):\n",
        "    power = 1\n",
        "    for _ in range(n):\n",
        "        yield power\n",
        "        power *= 2\n",
        "p = power_of_two(5)\n",
        "print(next(p))\n",
        "print(next(p))\n",
        "print(next(p))\n",
        "print(next(p))\n",
        "print(next(p))"
      ],
      "metadata": {
        "colab": {
          "base_uri": "https://localhost:8080/"
        },
        "id": "eQrH5z1xgbmE",
        "outputId": "945d1e1f-a40b-4fed-c56c-15f7a563702e"
      },
      "execution_count": 63,
      "outputs": [
        {
          "output_type": "stream",
          "name": "stdout",
          "text": [
            "1\n",
            "2\n",
            "4\n",
            "8\n",
            "16\n"
          ]
        }
      ]
    },
    {
      "cell_type": "code",
      "source": [
        "# Q7. Implement a generator function that reads a file line by line and yields each line as a string.\n",
        "def read_file_lines(file_path):\n",
        "    with open(file_path, 'r') as file:\n",
        "        for line in file:\n",
        "            yield line\n",
        "\n"
      ],
      "metadata": {
        "id": "Kq2_brfpg_w4"
      },
      "execution_count": 64,
      "outputs": []
    },
    {
      "cell_type": "code",
      "source": [
        "# Q8.  Use a lambda function in Python to sort a list of tuples based on the second element of each tuple.\n",
        "# Sample list of tuples\n",
        "tuples_list = [(1, 3), (4, 1), (2, 5), (9, 0)]\n",
        "\n",
        "# Sort by the second element of each tuple\n",
        "sorted_list = sorted(tuples_list, key=lambda x: x[1])\n",
        "\n",
        "print(sorted_list)"
      ],
      "metadata": {
        "colab": {
          "base_uri": "https://localhost:8080/"
        },
        "id": "emZvU4Bmh7DV",
        "outputId": "11eb7cf8-a772-4a17-ee48-32fa24d7a5dd"
      },
      "execution_count": 66,
      "outputs": [
        {
          "output_type": "stream",
          "name": "stdout",
          "text": [
            "[(9, 0), (4, 1), (1, 3), (2, 5)]\n"
          ]
        }
      ]
    },
    {
      "cell_type": "code",
      "source": [
        "# Q9. Write a Python program that uses `map()` to convert a list of temperatures from Celsius to Fahrenheit.\n",
        "# Function to convert Celsius to Fahrenheit\n",
        "def celsius_to_fahrenheit(c):\n",
        "    return (c * 9/5) + 32\n",
        "\n",
        "# List of temperatures in Celsius\n",
        "celsius_temps = [0, 20, 37, 100]\n",
        "\n",
        "# Convert using map()\n",
        "fahrenheit_temps = list(map(celsius_to_fahrenheit, celsius_temps))\n",
        "\n",
        "# Output the results\n",
        "print(fahrenheit_temps)"
      ],
      "metadata": {
        "colab": {
          "base_uri": "https://localhost:8080/"
        },
        "id": "jZt2qAiniPCW",
        "outputId": "bfebee2d-48a3-4ba4-d8cb-ab49306dd0ed"
      },
      "execution_count": 67,
      "outputs": [
        {
          "output_type": "stream",
          "name": "stdout",
          "text": [
            "[32.0, 68.0, 98.6, 212.0]\n"
          ]
        }
      ]
    },
    {
      "cell_type": "code",
      "source": [
        "# Q10. Create a Python program that uses `filter()` to remove all the vowels from a given string.\n",
        "def remove_vowels(input_string):\n",
        "    vowels = 'aeiouAEIOU'\n",
        "    return ''.join(filter(lambda char: char not in vowels, input_string))\n",
        "text = \"Hello, World!\"\n",
        "result = remove_vowels(text)\n",
        "print(result)\n"
      ],
      "metadata": {
        "colab": {
          "base_uri": "https://localhost:8080/"
        },
        "id": "-ehJvYAPiuAO",
        "outputId": "90932b95-b4bd-4106-f1bb-7320b4ff699b"
      },
      "execution_count": 68,
      "outputs": [
        {
          "output_type": "stream",
          "name": "stdout",
          "text": [
            "Hll, Wrld!\n"
          ]
        }
      ]
    },
    {
      "cell_type": "code",
      "source": [
        "# Q11.\n",
        "\n",
        "orders = [\n",
        "    [34587,\"learning python, Mark Lutz\", 4, 40.95],\n",
        "    [98762, \"Programming Python, Mark Lutz\", 5, 56.80],\n",
        "    [77226, \"Heading First Python\", 3, 32.95],\n",
        "    [88112, \"Einfuhrung in Python 3\", 3, 24.99]\n",
        "]\n",
        "\n",
        "# Process the orders using map and lambda\n",
        "result = list(map(lambda x: (\n",
        "    x[0],\n",
        "    x[2] * x[3] + 10 if x[2] * x[3] < 100 else x[2] * x[3]\n",
        "), orders))\n",
        "\n",
        "print(result)\n"
      ],
      "metadata": {
        "colab": {
          "base_uri": "https://localhost:8080/"
        },
        "id": "20r-oryvjCbd",
        "outputId": "d4a85c34-0239-440f-bad5-da3d07311025"
      },
      "execution_count": 69,
      "outputs": [
        {
          "output_type": "stream",
          "name": "stdout",
          "text": [
            "[(34587, 163.8), (98762, 284.0), (77226, 108.85000000000001), (88112, 84.97)]\n"
          ]
        }
      ]
    },
    {
      "cell_type": "code",
      "source": [],
      "metadata": {
        "id": "JN-6W216mSi4"
      },
      "execution_count": null,
      "outputs": []
    }
  ]
}